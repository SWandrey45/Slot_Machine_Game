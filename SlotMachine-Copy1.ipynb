{
 "cells": [
  {
   "cell_type": "markdown",
   "metadata": {},
   "source": [
    "The code below this markdown imports emojis to run the slot machine."
   ]
  },
  {
   "cell_type": "code",
   "execution_count": null,
   "metadata": {},
   "outputs": [],
   "source": [
    "import random \n",
    "import emoji\n",
    "from random import choice"
   ]
  },
  {
   "cell_type": "markdown",
   "metadata": {},
   "source": [
    "The cell below shows the emojis that will be used!"
   ]
  },
  {
   "cell_type": "code",
   "execution_count": null,
   "metadata": {},
   "outputs": [],
   "source": [
    "faces = [emoji.emojize(':red_apple:'),\n",
    "        emoji.emojize(':pear:'),\n",
    "        emoji.emojize(':tangerine:')]"
   ]
  },
  {
   "cell_type": "markdown",
   "metadata": {},
   "source": [
    "The purse class is used to keep track of the balance while the player is running the slot machine. Debit decrements the amount, credit increments, and get balance shows the amount the player has to gamble.  "
   ]
  },
  {
   "cell_type": "code",
   "execution_count": null,
   "metadata": {},
   "outputs": [],
   "source": [
    "class purse:\n",
    "    \n",
    "    def __init__(self): #creates a starting amount of 10.\n",
    "        self.balance = 10\n",
    "    \n",
    "    def debit(self, amount): #decrements the balance if the player gets an empty house\n",
    "        self.balance -= amount\n",
    "        if self.balance < amount: \n",
    "            print('You are out of money!') \n",
    "            return -1\n",
    "        \n",
    "    def credit(self, amount): # increments the balance for half houses and full houses\n",
    "        self.balance += amount \n",
    "    \n",
    "    def get_balance(self): # displays how much the player has \n",
    "        print('You have',self.balance)\n",
    "        return self.balance\n",
    "        "
   ]
  },
  {
   "cell_type": "markdown",
   "metadata": {},
   "source": [
    "The column class has a method that changes the emoji displayed to the player. "
   ]
  },
  {
   "cell_type": "code",
   "execution_count": null,
   "metadata": {},
   "outputs": [],
   "source": [
    "class column:\n",
    "    def __init__ (self): #creates a single column that can be manipulated\n",
    "        self.col = choice(faces) \n",
    "    def change_face(self): #Changes the face of the different columns when handle will be pulled  \n",
    "        self.col = choice(faces) \n"
   ]
  },
  {
   "cell_type": "markdown",
   "metadata": {},
   "source": [
    "The slot class uses three instances of the column class to display three emojis to the player. It takes a bet from the player, as long as it is greater than 2 and runs the pull_handle() method which randomises the emojis. \n",
    "\n",
    "The score_slot method keeps track of what is considered a full_house, half_house, or empty_house. \n",
    "\n",
    "The show_slot method shows the randomised faces. "
   ]
  },
  {
   "cell_type": "code",
   "execution_count": null,
   "metadata": {},
   "outputs": [],
   "source": [
    "class slot:\n",
    "    def __init__(self,): #creates three instances of the column class for displaying three fruits \n",
    "        self.col1=column()\n",
    "        self.col2=column()\n",
    "        self.col3=column()\n",
    "   \n",
    "    def take_bet(self, bet): #takes in a bet from the player and checks to see if it is more than €2\n",
    "        self.bet = bet\n",
    "        if self.bet <= 1:\n",
    "            print(\"That is not enough money! Try your luck with a higher amount!\")\n",
    "            \n",
    "        elif self.bet >=2: #if the bet is 2 or more, the handle is pulled\n",
    "            self.pull_handle()\n",
    "            return self.bet \n",
    "\n",
    "    def score_slot(self, purse): #this method takes from the purse and uses the conditions of full_house, half_house, and empty_house to determine a win or loss. \n",
    "        self.full_house = (self.col1.col==self.col2.col==self.col3.col) #compares the random faces of the columns\n",
    "        self.half_house = (self.col1.col == self.col2.col) or (self.col1.col == self.col3.col) or (self.col2.col==self.col3.col)\n",
    "        self.empty_house = (self.col1.col!=self.col2.col!=self.col3.col)       \n",
    "        if self.full_house:\n",
    "            print('Jackpot!! That is a full house! You won twice your bet!')\n",
    "            purse.credit(self.bet*2) #adds double the bet to the purse credit\n",
    "        elif self.half_house:\n",
    "            print ('You won! That is a half house! You won half your bet.')\n",
    "            purse.credit(self.bet*.5) #adds half the bet to the purse credit\n",
    "        else:\n",
    "            print('You lose, sorry but you lost your bet!') \n",
    "            purse.debit(self.bet)  #takes away the bet from the purse       \n",
    "\n",
    "    def show_slot(self):\n",
    "        return [self.col1.col, self.col2.col, self.col3.col] #show the fruit each time the game is played\n",
    "            \n",
    "    def print_slot(self): #shows the fruit in a nice way for the machine greeting (purely aesthetics)\n",
    "        return self.col1.col+\" \"+self.col2.col+\" \"+self.col3.col\n",
    "        \n",
    "    def pull_handle(self): #changes the faces of the fruit \n",
    "        self.col1.change_face()\n",
    "        self.col2.change_face()\n",
    "        self.col3.change_face() \n",
    "  "
   ]
  },
  {
   "cell_type": "markdown",
   "metadata": {},
   "source": [
    "The run_slot_machine() function runs all the classes and their methods to play the slot machine game. "
   ]
  },
  {
   "cell_type": "code",
   "execution_count": null,
   "metadata": {},
   "outputs": [],
   "source": [
    "def run_slot_machine ():\n",
    "    s= slot() #defines the slot class as s so it can be referenced properly in the print statements below\n",
    "    print(s.print_slot(),'Hello and welcome to the slot machine!',s.print_slot()) #welcomes the player and following statements explain the game\n",
    "    print('The minimum bet is 2, and you can exit by pressing \"N\"')\n",
    "    print('You have a starting balance of €10')\n",
    "    print('Start your bet!')\n",
    "    newPurse=purse() #creates an instance of purse for the game \n",
    "    while (True):\n",
    "        bet = input(\"Enter a bet!:\") #this while loop is meant to test if there is an N entered so that the player can exit the game\n",
    "        if bet == 'N': #once the letter N is entered, the loop will break.\n",
    "            break\n",
    "        try:\n",
    "            bet = int(bet)#If there is not a letter entered, the program takes the bet as an integer and runs it through the game. \n",
    "            if bet <=1: #if the bet is too little it prints a message and returns the loop to the beginning. \n",
    "                print('That is not enough, please bet more!')\n",
    "                continue\n",
    "        except:\n",
    "            continue \n",
    "        if newPurse.debit == -1: #this condition prevents the player from betting more than what is in their purse. \n",
    "            print('You are out of cash!') #if the player has no money, the game is over. \n",
    "            break \n",
    "        if newPurse.get_balance() < bet:\n",
    "            print ('You dont have enought money for that bet, try a smaller amount') #if the bet is more than the amount in the purse, it asks for a smaller bet. \n",
    "            continue\n",
    "      \n",
    "        s.take_bet(bet) #the following calls to methods here run the game play. \n",
    "        s.print_slot()\n",
    "        print(s.show_slot())\n",
    "        s.score_slot(newPurse)\n",
    "        newPurse.get_balance()\n",
    "    "
   ]
  },
  {
   "cell_type": "markdown",
   "metadata": {},
   "source": [
    "Below the run_slot_machine function is called and the game begins! "
   ]
  },
  {
   "cell_type": "code",
   "execution_count": null,
   "metadata": {},
   "outputs": [],
   "source": [
    "run_slot_machine() #have fun! "
   ]
  },
  {
   "cell_type": "code",
   "execution_count": null,
   "metadata": {},
   "outputs": [],
   "source": []
  }
 ],
 "metadata": {
  "kernelspec": {
   "display_name": "Python 3",
   "language": "python",
   "name": "python3"
  },
  "language_info": {
   "codemirror_mode": {
    "name": "ipython",
    "version": 3
   },
   "file_extension": ".py",
   "mimetype": "text/x-python",
   "name": "python",
   "nbconvert_exporter": "python",
   "pygments_lexer": "ipython3",
   "version": "3.7.4"
  }
 },
 "nbformat": 4,
 "nbformat_minor": 2
}
